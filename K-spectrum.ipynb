{
 "cells": [
  {
   "cell_type": "markdown",
   "metadata": {},
   "source": [
    "# Быстрый способ визуализации через pandas"
   ]
  },
  {
   "cell_type": "code",
   "execution_count": 1,
   "metadata": {},
   "outputs": [],
   "source": [
    "import pandas as pd"
   ]
  },
  {
   "cell_type": "code",
   "execution_count": 2,
   "metadata": {},
   "outputs": [
    {
     "name": "stdout",
     "output_type": "stream",
     "text": [
      "Wall time: 0 ns\n",
      "Колличество к-меров:  1024\n"
     ]
    },
    {
     "data": {
      "text/html": [
       "<div>\n",
       "<style scoped>\n",
       "    .dataframe tbody tr th:only-of-type {\n",
       "        vertical-align: middle;\n",
       "    }\n",
       "\n",
       "    .dataframe tbody tr th {\n",
       "        vertical-align: top;\n",
       "    }\n",
       "\n",
       "    .dataframe thead th {\n",
       "        text-align: right;\n",
       "    }\n",
       "</style>\n",
       "<table border=\"1\" class=\"dataframe\">\n",
       "  <thead>\n",
       "    <tr style=\"text-align: right;\">\n",
       "      <th></th>\n",
       "      <th>count</th>\n",
       "    </tr>\n",
       "  </thead>\n",
       "  <tbody>\n",
       "    <tr>\n",
       "      <th>AGCTT</th>\n",
       "      <td>3331</td>\n",
       "    </tr>\n",
       "    <tr>\n",
       "      <th>GCTTT</th>\n",
       "      <td>7589</td>\n",
       "    </tr>\n",
       "  </tbody>\n",
       "</table>\n",
       "</div>"
      ],
      "text/plain": [
       "       count\n",
       "AGCTT   3331\n",
       "GCTTT   7589"
      ]
     },
     "execution_count": 2,
     "metadata": {},
     "output_type": "execute_result"
    },
    {
     "data": {
      "image/png": "[encoded data removed]",
      "text/plain": [
       "<Figure size 432x288 with 1 Axes>"
      ]
     },
     "metadata": {
      "needs_background": "light"
     },
     "output_type": "display_data"
    }
   ],
   "source": [
    "\n",
    "k = 5\n",
    "\n",
    "%time\n",
    "file = open('E_coli.txt', 'r')\n",
    "dna = file.read()\n",
    "answer = set()\n",
    "spectrum = {}\n",
    "\n",
    "kmers = [dna[j:j+k] for j in range(len(dna)-k+1)]\n",
    "\n",
    "for m in kmers:\n",
    "    \n",
    "    if m in spectrum.keys():\n",
    "        spectrum[m][0]+=1\n",
    "    else:\n",
    "        spectrum[m]=[1]\n",
    "        \n",
    "file.close()\n",
    "print('Колличество к-меров: ', len(spectrum))\n",
    "\n",
    "\n",
    "df=pd.DataFrame.from_dict(spectrum, orient='index', columns=['count'])\n",
    "df.hist(width=250, bins=50)\n",
    "df.head(2)"
   ]
  },
  {
   "cell_type": "markdown",
   "metadata": {},
   "source": [
    "# Более классический способ"
   ]
  },
  {
   "cell_type": "code",
   "execution_count": 3,
   "metadata": {},
   "outputs": [
    {
     "name": "stdout",
     "output_type": "stream",
     "text": [
      "Wall time: 0 ns\n",
      "Колличество к-меров:  1024\n"
     ]
    }
   ],
   "source": [
    "k = 5\n",
    "\n",
    "\n",
    "%time\n",
    "file = open('E_coli.txt', 'r')\n",
    "dna = file.read()\n",
    "answer = set()\n",
    "spectrum = {}\n",
    "\n",
    "kmers = [dna[j:j+k] for j in range(len(dna)-k+1)]\n",
    "\n",
    "for m in kmers:\n",
    "    \n",
    "    if m in spectrum.keys():\n",
    "        spectrum[m]+=1\n",
    "    else:\n",
    "        spectrum[m]=1\n",
    "        \n",
    "file.close()\n",
    "print('Колличество к-меров: ', len(spectrum))\n",
    "\n",
    "k_spectrum = {}\n",
    "\n",
    "for mer in spectrum.values():\n",
    "    if mer in k_spectrum.keys():\n",
    "        k_spectrum[mer]+=1\n",
    "    else:\n",
    "        k_spectrum[mer]=1\n",
    "        \n",
    "#k_spectrum"
   ]
  },
  {
   "cell_type": "markdown",
   "metadata": {},
   "source": [
    "# Быстрый способ визуализации через matplotlib"
   ]
  },
  {
   "cell_type": "code",
   "execution_count": 4,
   "metadata": {},
   "outputs": [
    {
     "data": {
      "text/plain": [
       "<BarContainer object of 948 artists>"
      ]
     },
     "execution_count": 4,
     "metadata": {},
     "output_type": "execute_result"
    },
    {
     "data": {
      "image/png": "[encoded data removed]",
      "text/plain": [
       "<Figure size 432x288 with 1 Axes>"
      ]
     },
     "metadata": {
      "needs_background": "light"
     },
     "output_type": "display_data"
    }
   ],
   "source": [
    "import matplotlib.pyplot as plt\n",
    "plt.bar(k_spectrum.keys(), k_spectrum.values(), width=50, color='g')"
   ]
  },
  {
   "cell_type": "markdown",
   "metadata": {},
   "source": [
    "# Сохранение спектра \n",
    "\n"
   ]
  },
  {
   "cell_type": "code",
   "execution_count": 6,
   "metadata": {},
   "outputs": [],
   "source": [
    "# import json\n",
    "\n",
    "\n",
    "# json = json.dumps(k_spectrum)\n",
    "# f = open(\"dict.txt\",\"w\")\n",
    "# f.write( str(k_spectrum) )\n",
    "# f.close()"
   ]
  },
  {
   "cell_type": "code",
   "execution_count": null,
   "metadata": {},
   "outputs": [],
   "source": []
  }
 ],
 "metadata": {
  "kernelspec": {
   "display_name": "Python 3",
   "language": "python",
   "name": "python3"
  },
  "language_info": {
   "codemirror_mode": {
    "name": "ipython",
    "version": 3
   },
   "file_extension": ".py",
   "mimetype": "text/x-python",
   "name": "python",
   "nbconvert_exporter": "python",
   "pygments_lexer": "ipython3",
   "version": "3.7.6"
  }
 },
 "nbformat": 4,
 "nbformat_minor": 4
}
